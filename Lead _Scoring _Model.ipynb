{
 "cells": [
  {
   "cell_type": "code",
   "execution_count": 1,
   "id": "ed0863bb",
   "metadata": {},
   "outputs": [
    {
     "name": "stdout",
     "output_type": "stream",
     "text": [
      "Accuracy: 0.9869386873920553\n",
      "Precision: 0.9890095330433372\n",
      "Recall: 0.9869386873920553\n",
      "F1-score: 0.9872438488756627\n"
     ]
    },
    {
     "name": "stderr",
     "output_type": "stream",
     "text": [
      "C:\\Users\\CHETAN\\anaconda3\\lib\\site-packages\\sklearn\\metrics\\_classification.py:1318: UndefinedMetricWarning: Precision is ill-defined and being set to 0.0 in labels with no predicted samples. Use `zero_division` parameter to control this behavior.\n",
      "  _warn_prf(average, modifier, msg_start, len(result))\n",
      "C:\\Users\\CHETAN\\anaconda3\\lib\\site-packages\\sklearn\\metrics\\_classification.py:1318: UndefinedMetricWarning: Recall is ill-defined and being set to 0.0 in labels with no true samples. Use `zero_division` parameter to control this behavior.\n",
      "  _warn_prf(average, modifier, msg_start, len(result))\n"
     ]
    }
   ],
   "source": [
    "###### Lead Scoring Model ######\n",
    "import pandas as pd\n",
    "from sklearn.preprocessing import LabelEncoder\n",
    "from sklearn.model_selection import train_test_split\n",
    "from sklearn.ensemble import RandomForestRegressor\n",
    "from sklearn.metrics import accuracy_score, precision_score, recall_score, f1_score\n",
    "\n",
    "\n",
    "# Load the dataset\n",
    "# the dataset is stored in a CSV file named 'lead.csv' in the same directory as the Python script\n",
    "df = pd.read_csv('Lead.csv')\n",
    "\n",
    "\n",
    "# Replace missing or NaN values with a common value\n",
    "df = df.fillna('9b2d5b4678781e53038e91ea5324530a03f27dc1d0e5f6c9bc9d493a23be9de0')\n",
    "\n",
    "\n",
    "\n",
    "# Drop rows where STATUS is not WON or LOST\n",
    "# This will remove any rows from the DataFrame where the STATUS column has a value other than 'WON' or 'LOST'.\n",
    "# The resulting DataFrame will only contain leads that have been either won or lost.\n",
    "\n",
    "df = df[df['status'].isin(['WON', 'LOST'])]\n",
    "\n",
    "\n",
    "\n",
    "# Perform feature selection - keep columns 2-5, 7, and 9-13\n",
    "# which would involve identifying which features are likely to be important based on your understanding of the business problem and the domain\n",
    "df = df.iloc[:, [2, 3, 4, 5, 7, 9, 10, 11, 12, 13]]\n",
    "\n",
    "\n",
    "# Convert all columns to categorical variables\n",
    "df = df.astype('category')\n",
    "\n",
    "\n",
    "# Encode categorical variables as numerical values\n",
    "label_encoders = {}\n",
    "for col in df.columns:\n",
    "    label_encoders[col] = LabelEncoder()\n",
    "    df[col] = label_encoders[col].fit_transform(df[col])\n",
    "    \n",
    "    \n",
    "\n",
    "# Split the dataset into training and testing sets\n",
    "# After running this code, you will have four variables: X_train, X_test, y_train, and y_test, which contain the training and testing input features and target variable, respectively.\n",
    "X_train, X_test, y_train, y_test = train_test_split(df.iloc[:, :-1], df.iloc[:, -1], test_size=0.2, random_state=42)\n",
    "\n",
    "\n",
    "\n",
    "# Train a machine learning model - a random forest regressor\n",
    "# This code first imports the RandomForestRegressor class from Scikit-learn's ensemble module.\n",
    "# It then creates a new instance of the class and sets the n_estimators parameter to 100 and the random_state parameter to 42 (for reproducibility).\n",
    "# Finally, it fits the model to the training data using the fit method of the RandomForestRegressor class.\n",
    "model = RandomForestRegressor(n_estimators=100, random_state=42)\n",
    "model.fit(X_train, y_train)\n",
    "\n",
    "\n",
    "\n",
    "# Predict the lead scores for the testing set\n",
    "y_pred = model.predict(X_test)\n",
    "\n",
    "\n",
    "\n",
    "# Evaluate the performance of the model\n",
    "# Evaluate the performance of the model using regression evaluation metrics (mean squared error, mean absolute error, and R-squared) on the testing set.\n",
    "print('Accuracy:', accuracy_score(y_test, y_pred.round()))\n",
    "print('Precision:', precision_score(y_test, y_pred.round(), average='weighted'))\n",
    "print('Recall:', recall_score(y_test, y_pred.round(), average='weighted'))\n",
    "print('F1-score:', f1_score(y_test, y_pred.round(), average='weighted'))\n"
   ]
  },
  {
   "cell_type": "code",
   "execution_count": null,
   "id": "87346883",
   "metadata": {},
   "outputs": [],
   "source": []
  }
 ],
 "metadata": {
  "kernelspec": {
   "display_name": "Python 3 (ipykernel)",
   "language": "python",
   "name": "python3"
  },
  "language_info": {
   "codemirror_mode": {
    "name": "ipython",
    "version": 3
   },
   "file_extension": ".py",
   "mimetype": "text/x-python",
   "name": "python",
   "nbconvert_exporter": "python",
   "pygments_lexer": "ipython3",
   "version": "3.9.12"
  }
 },
 "nbformat": 4,
 "nbformat_minor": 5
}
